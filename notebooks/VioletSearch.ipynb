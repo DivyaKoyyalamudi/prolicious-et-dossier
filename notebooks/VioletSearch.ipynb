{
 "cells": [
  {
   "attachments": {},
   "cell_type": "markdown",
   "metadata": {},
   "source": [
    "# Violet Search API\n",
    "\n",
    "The Violet API allows developers to perform similarity search and provide a conversational answer based on the context provided. The answer includes source links as a bulleted list using the title. The similarity search is performed using Pinecone.io, and the language model (LLM) utilizes both the chat API and embeddings API from a Vertex-deployed Azure instance.\n",
    "\n",
    "## Install"
   ]
  },
  {
   "cell_type": "code",
   "execution_count": null,
   "metadata": {},
   "outputs": [],
   "source": [
    "%pip install requests\n",
    "%pip install python-dotenv"
   ]
  },
  {
   "attachments": {},
   "cell_type": "markdown",
   "metadata": {},
   "source": [
    "## Import/Setup\n",
    "\n",
    "### API Endpoint\n",
    "POST: 'https://violet-api-apim.azure-api.net/api/v1/violetsearch'"
   ]
  },
  {
   "cell_type": "code",
   "execution_count": null,
   "metadata": {},
   "outputs": [],
   "source": [
    "import os,requests\n",
    "from dotenv import load_dotenv\n",
    "\n",
    "violet_api_key: str = os.environ.get('VIOLET_API_KEY')\n",
    "\n",
    "api_url = \"https://violet-api-apim.azure-api.net/api/v1/violetsearch\"\n",
    "subscription_key = violet_api_key"
   ]
  },
  {
   "attachments": {},
   "cell_type": "markdown",
   "metadata": {},
   "source": [
    "### Request Body\n",
    "\n",
    "- `input`: (string, required) The question from the user.\n",
    "- `minimumScore`: (float) The minimum score for similarity search, default is 0.80.\n",
    "- `numberOfEmbeddings`: (integer) The number of embeddings to return, default is 3.\n",
    "- `returnEmbeddings`: (boolean) Flag to return embeddings in the response or not, default is false.\n",
    "- `sessionID`: (string) Session ID for chat history. History is saved in Redis cache. If no session ID is provided, no chat history is saved.\n",
    "- `sessionTTL`: (integer) Session Time to Live in seconds, default is 5 minutes (300 seconds).\n",
    "\n",
    "### Request Headers\n",
    "\n",
    "- `Content-Type`: (string, required) The content type of the request, should be set to `application/json`.\n",
    "- `Ocp-Apim-Subscription-Key`: (string, required) Subscription key for authentication."
   ]
  },
  {
   "cell_type": "code",
   "execution_count": null,
   "metadata": {},
   "outputs": [],
   "source": [
    "def get_violet_api_response(api_url, subscription_key, question):\n",
    "    payload = {\n",
    "        \"input\": question,\n",
    "        \"minimumScore\": 0.8,\n",
    "        \"numberOfEmbeddings\": 3,\n",
    "        \"returnEmbeddings\": True,\n",
    "        \"sessionID\": \"unique_session_id\",\n",
    "        \"sessionTTL\": 300,\n",
    "    }\n",
    "    headers = {\n",
    "        \"Content-Type\": \"application/json\",\n",
    "        \"Ocp-Apim-Subscription-Key\": subscription_key\n",
    "    }\n",
    "    \n",
    "    response = requests.post(api_url, json=payload, headers=headers)\n",
    "    \n",
    "    if response.status_code == 200:\n",
    "        return response.json()\n",
    "    else:\n",
    "        raise Exception(f\"API call failed: {response.status_code}, {response.text}\")"
   ]
  },
  {
   "attachments": {},
   "cell_type": "markdown",
   "metadata": {},
   "source": [
    "## Example Usage"
   ]
  },
  {
   "cell_type": "code",
   "execution_count": null,
   "metadata": {},
   "outputs": [],
   "source": [
    "question = \"Tell me about graph databases\"\n",
    "\n",
    "response = get_violet_api_response(api_url, subscription_key, question)\n",
    "print(\"Message:\", response['message'])\n",
    "print(\"Embeddings:\", response['embeddings'])"
   ]
  }
 ],
 "metadata": {
  "kernelspec": {
   "display_name": "Python 3",
   "language": "python",
   "name": "python3"
  },
  "language_info": {
   "codemirror_mode": {
    "name": "ipython",
    "version": 3
   },
   "file_extension": ".py",
   "mimetype": "text/x-python",
   "name": "python",
   "nbconvert_exporter": "python",
   "pygments_lexer": "ipython3",
   "version": "3.10.4"
  },
  "orig_nbformat": 4
 },
 "nbformat": 4,
 "nbformat_minor": 2
}
